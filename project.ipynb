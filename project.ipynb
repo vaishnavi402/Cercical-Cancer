{
 "cells": [
  {
   "cell_type": "code",
   "execution_count": null,
   "metadata": {},
   "outputs": [],
   "source": [
    "import pandas as pd\n",
    "import numpy as np\n",
    "\n",
    "import plotly.express as px\n",
    "from plotly.subplots import make_subplots\n",
    "import plotly.graph_objects as go\n",
    "\n",
    "from sklearn.impute import SimpleImputer\n",
    "from sklearn.model_selection import StratifiedShuffleSplit\n",
    "from typing import List\n",
    "from sklearn.preprocessing import RobustScaler,StandardScaler\n",
    "from sklearn.decomposition import PCA\n",
    "from sklearn.pipeline import Pipeline\n",
    "from sklearn.linear_model import LogisticRegression\n",
    "from sklearn.metrics import accuracy_score,confusion_matrix\n",
    "from sklearn.model_selection import GridSearchCV\n",
    "from sklearn.ensemble import RandomForestClassifier, VotingClassifier\n",
    "from sklearn.neighbors import KNeighborsClassifier\n",
    "from sklearn.svm import SVC\n",
    "from sklearn.metrics import precision_recall_fscore_support\n",
    "\n",
    "from imblearn.over_sampling import SMOTE, ADASYN\n",
    "from imblearn.over_sampling import RandomOverSampler\n",
    "\n",
    "from plotly.offline import plot, iplot, init_notebook_mode\n",
    "init_notebook_mode(connected=True)\n",
    "\n",
    "import warnings\n",
    "\n",
    "warnings.filterwarnings('ignore')"
   ]
  },
  {
   "cell_type": "code",
   "execution_count": null,
   "metadata": {},
   "outputs": [],
   "source": [
    "risk_factor_df = pd.read_csv(\"kag_risk_factors_cervical_cancer.csv\")\n",
    "risk_factor_df.head()"
   ]
  },
  {
   "cell_type": "code",
   "execution_count": null,
   "metadata": {},
   "outputs": [],
   "source": [
    "risk_factor_df.info()"
   ]
  },
  {
   "cell_type": "code",
   "execution_count": null,
   "metadata": {},
   "outputs": [],
   "source": [
    "def print_unique_values_df(df: pd.DataFrame):\n",
    "    for col in list(df):\n",
    "        print(\"Unique Values for \"'{}'\":{}\".format(str(col), risk_factor_df[col].unique()))\n",
    "        print(\"dtype for {} is :{}\".format(str(col), risk_factor_df[col].dtypes))\n",
    "        print(\"-\" * 150)\n",
    "\n",
    "\n",
    "def print_unique_values_for_col(df: pd.DataFrame, col_names: List[str] = None):\n",
    "    for col in col_names:\n",
    "        print(\"Unique Values for \"'{}'\":{}\".format(str(col), risk_factor_df[col].unique()))"
   ]
  },
  {
   "cell_type": "code",
   "execution_count": null,
   "metadata": {},
   "outputs": [],
   "source": [
    "print_unique_values_df(risk_factor_df)"
   ]
  },
  {
   "cell_type": "code",
   "execution_count": null,
   "metadata": {},
   "outputs": [],
   "source": [
    "#these columns are not of type object, but are of type numeric\n",
    "cols_to_convert = ['Number of sexual partners', 'First sexual intercourse', 'Num of pregnancies', 'Smokes',\n",
    "                   'Smokes (years)', 'Smokes (packs/year)', 'Hormonal Contraceptives',\n",
    "                   'Hormonal Contraceptives (years)', 'IUD', 'IUD (years)', 'STDs', 'STDs (number)',\n",
    "                   'STDs:condylomatosis', 'STDs:cervical condylomatosis', 'STDs:vaginal condylomatosis',\n",
    "                   'STDs:vulvo-perineal condylomatosis', 'STDs:syphilis', 'STDs:pelvic inflammatory disease',\n",
    "                   'STDs:genital herpes', 'STDs:molluscum contagiosum', 'STDs:AIDS', 'STDs:HIV', 'STDs:Hepatitis B',\n",
    "                   'STDs:HPV', 'STDs: Time since first diagnosis',\n",
    "                   'STDs: Time since last diagnosis']\n",
    "# for i in range(0,len(cols_to_convert)):\n",
    "#     print(\"{}={}\".format(i,cols_to_convert[i]))\n",
    "risk_factor_df[cols_to_convert] = risk_factor_df[cols_to_convert].apply(pd.to_numeric, errors=\"coerce\")\n",
    "risk_factor_df[cols_to_convert].fillna(np.nan, inplace=True)\n",
    "imp = SimpleImputer(strategy=\"median\")\n",
    "X = imp.fit_transform(risk_factor_df)\n",
    "risk_factor_df = pd.DataFrame(X, columns=list(risk_factor_df.columns))"
   ]
  },
  {
   "cell_type": "code",
   "execution_count": null,
   "metadata": {},
   "outputs": [],
   "source": [
    "def age_cat(age):\n",
    "    if age < 12:\n",
    "        return \"Child\"\n",
    "    elif age < 20:\n",
    "        return \"Teen\"\n",
    "    elif age < 30:\n",
    "        return \"20's\"\n",
    "    elif age < 40:\n",
    "        return \"30's\"\n",
    "    elif age < 50:\n",
    "        return \"40's\"\n",
    "    elif age < 60:\n",
    "        return \"50's\"\n",
    "    elif age < 70:\n",
    "        return \"60's\"\n",
    "    else:\n",
    "        return \"70+\"\n",
    "\n",
    "\n",
    "risk_factor_df[\"Age\"] = risk_factor_df[\"Age\"].astype(int)\n",
    "risk_factor_df[\"age_cat\"] = risk_factor_df[\"Age\"].apply(age_cat)"
   ]
  },
  {
   "cell_type": "code",
   "execution_count": null,
   "metadata": {},
   "outputs": [],
   "source": [
    "std_cols = {'STDs:condylomatosis',\n",
    "            'STDs:cervical condylomatosis',\n",
    "            'STDs:vaginal condylomatosis',\n",
    "            'STDs:vulvo-perineal condylomatosis',\n",
    "            'STDs:syphilis',\n",
    "            'STDs:pelvic inflammatory disease',\n",
    "            'STDs:genital herpes',\n",
    "            'STDs:molluscum contagiosum',\n",
    "            'STDs:AIDS',\n",
    "            'STDs:HIV',\n",
    "            'STDs:Hepatitis B',\n",
    "            'STDs:HPV'}\n",
    "\n",
    "risk_factor_df[\"total_std\"] = risk_factor_df[list(std_cols)].sum(axis=1)\n",
    "std_agg = risk_factor_df.groupby(\"age_cat\", as_index=False)[list(std_cols)].sum()"
   ]
  },
  {
   "cell_type": "code",
   "execution_count": null,
   "metadata": {},
   "outputs": [],
   "source": [
    "test_cols = [\"Hinselmann\", \"Schiller\", \"Citology\", \"Biopsy\"]\n",
    "risk_factor_df[\"total_tests\"] = risk_factor_df[test_cols].sum(axis = 1)"
   ]
  },
  {
   "cell_type": "code",
   "execution_count": null,
   "metadata": {},
   "outputs": [],
   "source": [
    "to_int_and_beyond = {\"total_tests\",\n",
    "                     \"total_std\",\n",
    "                     \"Smokes\",\n",
    "                     \"Biopsy\",\n",
    "                     \"Dx:Cancer\",\n",
    "                     \"Num of pregnancies\",\n",
    "                     \"Number of sexual partners\",\n",
    "                     \"First sexual intercourse\",\n",
    "                     \"Hormonal Contraceptives\",\n",
    "                     \"IUD\",\n",
    "                     \"STDs\",\n",
    "                     \"STDs (number)\",\n",
    "                     \"STDs: Number of diagnosis\",\n",
    "                     \"Dx:CIN\",\n",
    "                     \"Dx:HPV\",\n",
    "                     \"Dx\",\n",
    "                     \"Hinselmann\",\n",
    "                     \"Schiller\",\n",
    "                     \"Biopsy\",\n",
    "                     \"Citology\"}\n",
    "\n",
    "to_int_and_beyond = to_int_and_beyond.union(std_cols)\n",
    "\n",
    "for col in to_int_and_beyond:\n",
    "    risk_factor_df[col] = risk_factor_df[col].astype(int)"
   ]
  },
  {
   "cell_type": "code",
   "execution_count": null,
   "metadata": {},
   "outputs": [],
   "source": [
    "risk_factor_df.info()"
   ]
  },
  {
   "cell_type": "code",
   "execution_count": null,
   "metadata": {},
   "outputs": [],
   "source": [
    "# corr_matrix = risk_factor_df.corr()\n",
    "# corr_matrix.fillna(0,inplace=True)\n",
    "# corr_graph = px.imshow(corr_matrix, aspect=\"auto\")\n",
    "# corr_graph.show()"
   ]
  },
  {
   "cell_type": "code",
   "execution_count": null,
   "metadata": {},
   "outputs": [],
   "source": [
    "n = 7\n",
    "target = \"Dx:Cancer\"\n",
    "corr = risk_factor_df.select_dtypes(include=np.number).corr()\n",
    "\n",
    "x = corr.nlargest(n,target).index\n",
    "corr_df =  risk_factor_df[list(x)]\n",
    "corr = corr_df.corr()\n",
    "fig = px.imshow(corr,color_continuous_scale = \"PuBu\")\n",
    "fig.update_layout(title=\"Top \"+str(n)+\" Features Correlated With \"+str(target).capitalize())\n",
    "fig.show()"
   ]
  },
  {
   "cell_type": "code",
   "execution_count": null,
   "metadata": {},
   "outputs": [],
   "source": [
    "age_dist = px.histogram(risk_factor_df, x=\"Age\", marginal=\"box\", color_discrete_sequence=[\"palevioletred\"])\n",
    "age_dist.update_layout(title=\"Age distribution\")\n",
    "age_dist.show()"
   ]
  },
  {
   "cell_type": "code",
   "execution_count": null,
   "metadata": {},
   "outputs": [],
   "source": [
    "age_preg_bar = px.box(risk_factor_df.sort_values(by=\"Age\",ascending=True), x=\"age_cat\", y=\"Num of pregnancies\",\n",
    "                      color_discrete_sequence=[\"darkblue\"], points=\"outliers\",\n",
    "                      category_orders=[\"Teenager\", \"Twenties\", \"Thirties\", \"Forties\", \"Fifties\",\n",
    "                                       \"Seventy and over\"])\n",
    "age_preg_bar.update_xaxes(title=\"Age Category\")\n",
    "age_preg_bar.update_yaxes(title=\"Number of Pregnancies\")\n",
    "age_preg_bar.update_layout(title=\"Distribution of number of pregnancies per age group\")\n",
    "age_preg_bar.show()"
   ]
  },
  {
   "cell_type": "code",
   "execution_count": null,
   "metadata": {},
   "outputs": [],
   "source": [
    "age_num_sex_partners = px.box(risk_factor_df.sort_values(by=\"Age\",ascending=True), x=\"age_cat\", y=\"Number of sexual partners\",\n",
    "                      color_discrete_sequence=[\"blue\"], points=\"outliers\",\n",
    "                      category_orders=[\"Teenager\", \"Twenties\", \"Thirties\", \"Forties\", \"Fifties\",\n",
    "                                       \"Seventy and over\"])\n",
    "age_num_sex_partners.update_xaxes(title=\"Age Category\")\n",
    "age_num_sex_partners.update_yaxes(title=\"Number of Sexual Partners\")\n",
    "age_num_sex_partners.update_layout(title=\"Distribution of number of sexual partners per age group\")\n",
    "age_num_sex_partners.show()"
   ]
  },
  {
   "cell_type": "code",
   "execution_count": null,
   "metadata": {},
   "outputs": [],
   "source": [
    "age_num_sex_partners = px.scatter(risk_factor_df, x=\"Age\",\n",
    "                                  y=\"Number of sexual partners\",\n",
    "                                  trendline=\"ols\",\n",
    "                                  opacity=0.4,\n",
    "                                  color=\"Num of pregnancies\",\n",
    "                                  color_continuous_scale=\"rdbu\",)\n",
    "age_num_sex_partners.update_layout(title=\"Age vs Number of Sexual Partners\")\n",
    "age_num_sex_partners.show()"
   ]
  },
  {
   "cell_type": "code",
   "execution_count": null,
   "metadata": {},
   "outputs": [],
   "source": [
    "diagnoses_num_partner_compare_cols = ['Dx:Cancer',\n",
    "                                      'Dx:HPV',\n",
    "                                      \"Number of sexual partners\",]\n",
    "corr_matrix = risk_factor_df[diagnoses_num_partner_compare_cols].corr()\n",
    "print(corr_matrix)\n",
    "diagnoses_num_partner_heatmap = px.imshow(corr_matrix,\n",
    "                              aspect=\"auto\",\n",
    "                              color_continuous_scale=\"gnbu\",\n",
    "                              text_auto=True)\n",
    "diagnoses_num_partner_heatmap.show()"
   ]
  },
  {
   "cell_type": "code",
   "execution_count": null,
   "metadata": {},
   "outputs": [],
   "source": [
    "diagnoses_cols = ['Dx:Cancer',\n",
    "                  'Dx:CIN',\n",
    "                  'Dx:HPV']\n",
    "diagnoses_corr_matrix = risk_factor_df[diagnoses_cols].corr()\n",
    "# print(diagnoses_corr_matrix)\n",
    "diagnoses_heatmap = px.imshow(diagnoses_corr_matrix, aspect=\"auto\", color_continuous_scale=\"tealgrn\", text_auto=True)\n",
    "diagnoses_heatmap.show()"
   ]
  },
  {
   "cell_type": "code",
   "execution_count": null,
   "metadata": {},
   "outputs": [],
   "source": [
    "fig = px.histogram(std_agg, x=\"age_cat\", y=list(std_cols), barmode=\"group\", histfunc=\"sum\")\n",
    "fig.update_layout(title=\"Sum of STD occurence across age categories\")\n",
    "fig.update_xaxes(title=\"Age Category\")\n",
    "fig.update_yaxes(title=\"Sum\")\n",
    "fig.show()"
   ]
  },
  {
   "cell_type": "code",
   "execution_count": null,
   "metadata": {},
   "outputs": [],
   "source": [
    "fig = px.histogram(risk_factor_df.query(\"total_std>=0\").sort_values(by=[\"total_std\", \"Dx:Cancer\"], ascending=True),\n",
    "                   x=\"age_cat\",\n",
    "                   facet_col=\"total_std\",\n",
    "                   facet_row=\"Dx:Cancer\",\n",
    "                   color_discrete_sequence=[\"rebeccapurple\"],\n",
    "                   opacity=0.7)\n",
    "fig.update_layout(title=\"Count of women across age groups who have had one or more std\")\n",
    "\n",
    "fig.show()"
   ]
  },
  {
   "cell_type": "code",
   "execution_count": null,
   "metadata": {},
   "outputs": [],
   "source": [
    "fig = px.histogram(risk_factor_df.query(\"total_std>=0\").sort_values(by=[\"total_std\",\"Dx:HPV\"], ascending=True),\n",
    "                   x=\"age_cat\",\n",
    "                   facet_col=\"total_std\",\n",
    "                   facet_row=\"Dx:HPV\",\n",
    "                   color_discrete_sequence=[\"dodgerblue\"],\n",
    "                   opacity=0.7)\n",
    "fig.update_layout(title=\"Count of women across age groups who have had one or more std\")\n",
    "\n",
    "fig.show()"
   ]
  },
  {
   "cell_type": "code",
   "execution_count": null,
   "metadata": {},
   "outputs": [],
   "source": [
    "fig = px.histogram(risk_factor_df.query(\"total_std>=0\").sort_values(by=[\"total_std\", \"Dx:Cancer\"], ascending=True),\n",
    "                   x=\"age_cat\",\n",
    "                   facet_col=\"total_std\",\n",
    "                   facet_row=\"Dx:Cancer\",\n",
    "                   color_discrete_sequence=[\"rebeccapurple\"],\n",
    "                   opacity=0.7)\n",
    "fig.update_layout(title=\"Count of women across age groups who have had one or more std\")\n",
    "\n",
    "fig.show()"
   ]
  },
  {
   "cell_type": "code",
   "execution_count": null,
   "metadata": {},
   "outputs": [],
   "source": [
    "fig = px.histogram(risk_factor_df.query(\"total_std>=0\").sort_values(by=[\"total_std\",\"Dx:HPV\"], ascending=True),\n",
    "                   x=\"age_cat\",\n",
    "                   facet_col=\"total_std\",\n",
    "                   facet_row=\"Dx:HPV\",\n",
    "                   color_discrete_sequence=[\"dodgerblue\"],\n",
    "                   opacity=0.7)\n",
    "fig.update_layout(title=\"Count of women across age groups who have had one or more std\")\n",
    "\n",
    "fig.show()"
   ]
  },
  {
   "cell_type": "code",
   "execution_count": null,
   "metadata": {},
   "outputs": [],
   "source": [
    "fig = px.histogram(risk_factor_df.query(\"total_tests>0\").sort_values(by=\"total_tests\", ascending=True),\n",
    "                   x=\"age_cat\",\n",
    "                   facet_col=\"total_tests\",\n",
    "                   facet_row=\"Dx:Cancer\",\n",
    "                   color_discrete_sequence=[\"blueviolet\"],\n",
    "                   opacity=0.8)\n",
    "fig.update_layout(title=\"Count of women across age groups who have had one or more test\")\n",
    "\n",
    "fig.show()"
   ]
  },
  {
   "cell_type": "code",
   "execution_count": null,
   "metadata": {},
   "outputs": [],
   "source": [
    "fig = px.histogram(risk_factor_df.query(\"total_tests>0\").sort_values(by=[\"total_tests\",\"Dx:HPV\"], ascending=True),\n",
    "                   x=\"age_cat\",\n",
    "                   facet_col=\"total_tests\",\n",
    "                   facet_row=\"Dx:HPV\",\n",
    "                   color_discrete_sequence=[\"coral\"],\n",
    "                   opacity=0.8)\n",
    "fig.update_layout(title=\"Count of women across age groups who have had one or more test\")\n",
    "\n",
    "fig.show()"
   ]
  },
  {
   "cell_type": "code",
   "execution_count": null,
   "metadata": {},
   "outputs": [],
   "source": [
    "fig = px.ecdf(risk_factor_df, x=[\"Smokes (years)\",\n",
    "                                 \"Hormonal Contraceptives (years)\",\n",
    "                                 \"IUD (years)\"],\n",
    "              color_discrete_sequence=[\"crimson\", \"deepskyblue\", \"chartreuse\"])\n",
    "fig.update_xaxes(title=\"Years\")\n",
    "fig.update_layout(title=\"ECDF Plot\")\n",
    "fig.show()"
   ]
  },
  {
   "cell_type": "code",
   "execution_count": null,
   "metadata": {},
   "outputs": [],
   "source": [
    "age_category_range = {\n",
    "    \"Age<12\": \"Child\",\n",
    "    \"Age>=12 & Age<20\": \"Teen\",\n",
    "    \"Age>=20 & Age<30\": \"20's\",\n",
    "    \"Age>=30 & Age<40\": \"30's\",\n",
    "    \"Age>=40 & Age<50\": \"40's\",\n",
    "    \"Age>=50 & Age<60\": \"50's\",\n",
    "    \"Age>=60 & Age<70\": \"60's\",\n",
    "    \"Age>=70\": \"70+\"}\n",
    "age_prop_dict = {}\n",
    "col = \"Age\"  # Just to get the count\n",
    "for age_range, category in age_category_range.items():\n",
    "    age_prop_dict[category] = risk_factor_df.query(age_range)[col].count() / len(risk_factor_df)\n",
    "\n",
    "proportion_samples_df = pd.DataFrame.from_dict(age_prop_dict, orient=\"index\",\n",
    "                                               columns=[ \"Sample Proportion\"])\n",
    "proportion_samples_df = proportion_samples_df.reset_index()\n",
    "proportion_samples_df.columns = proportion_samples_df.columns.str.replace(\"index\",\"Category\")\n",
    "fig = px.pie(proportion_samples_df,\n",
    "             values='Sample Proportion',\n",
    "             names=\"Category\",\n",
    "             title='Age Category proportion of women sampled',color_discrete_sequence=px.colors.sequential.Magenta)\n",
    "fig.show()\n",
    "proportion_samples_df"
   ]
  },
  {
   "cell_type": "code",
   "execution_count": null,
   "metadata": {},
   "outputs": [],
   "source": [
    "fig = make_subplots(rows=1, cols=2, specs=[[{'type': 'domain'}, {'type': 'domain'}]],\n",
    "                    subplot_titles=[\"Cancer\", \"HPV\"])\n",
    "fig.add_trace(go.Pie(labels=risk_factor_df[\"age_cat\"],\n",
    "                     values=risk_factor_df[\"Dx:Cancer\"],\n",
    "                     name=\"Cancer\", marker_colors=px.colors.sequential.RdBu),\n",
    "              1, 1)\n",
    "fig.add_trace(go.Pie(labels=risk_factor_df[\"age_cat\"],\n",
    "                     values=risk_factor_df[\"Dx:HPV\"],\n",
    "                     name=\"HPV\", marker_colors=px.colors.sequential.RdBu),\n",
    "              1, 2)\n",
    "\n",
    "fig.update_traces(hole=.0, hoverinfo=\"label+percent+name\")\n",
    "\n",
    "fig.update_layout(\n",
    "    title_text=\"Proportion of women across age categories with a diagnosis of Cancer, HPV\",\n",
    ")\n",
    "fig.show()"
   ]
  },
  {
   "cell_type": "code",
   "execution_count": null,
   "metadata": {},
   "outputs": [],
   "source": [
    "df_hormonal_compariosn = risk_factor_df.groupby([\"age_cat\"], as_index=False)[[\"IUD\", \"Hormonal Contraceptives\"]].sum()\n",
    "fig = px.histogram(df_hormonal_compariosn, x=\"age_cat\", y=[\"IUD\", \"Hormonal Contraceptives\"], barmode=\"group\"\n",
    "                   , color_discrete_sequence=[\"darkcyan\", \"mediumorchid\"])\n",
    "\n",
    "fig.update_xaxes(title=\"Age Category\")\n",
    "fig.update_yaxes(title=\"Count\")\n",
    "fig.update_layout(title=\"Age Ranges of women who use Contraceptives\")\n",
    "\n",
    "fig.show()"
   ]
  },
  {
   "cell_type": "code",
   "execution_count": null,
   "metadata": {},
   "outputs": [],
   "source": [
    "df_hormonal_contraceptives = risk_factor_df[\n",
    "    (risk_factor_df[\"Hormonal Contraceptives\"] == 1) & (risk_factor_df[\"IUD\"] == 0)]\n",
    "df_hormonal_contraceptives = df_hormonal_contraceptives.sort_values(by=[\"Smokes\", \"Dx:Cancer\"])\n",
    "fig = px.histogram(df_hormonal_contraceptives, x=\"age_cat\", color=\"Smokes\", barmode=\"group\", facet_col=\"Dx:Cancer\",\n",
    "                   color_discrete_sequence=[\"darkcyan\", \"crimson\"])\n",
    "fig.update_xaxes(title=\"Age Category\")\n",
    "fig.update_yaxes(title=\"Count\")\n",
    "fig.update_layout(title=\"Age Ranges of women who use Hormonal Contraceptives\")\n",
    "# fig.for_each_annotation(lambda a: a.update(text=a.text.split(\":\")[-1]))\n",
    "fig.show()"
   ]
  },
  {
   "cell_type": "code",
   "execution_count": null,
   "metadata": {},
   "outputs": [],
   "source": [
    "df_IUD_contraceptives = risk_factor_df[(risk_factor_df[\"Hormonal Contraceptives\"] == 0) & (risk_factor_df[\"IUD\"] == 1)]\n",
    "df_IUD_contraceptives = df_IUD_contraceptives.sort_values(by=[\"Smokes\", \"Dx:Cancer\"], ascending=True)\n",
    "fig = px.histogram(df_IUD_contraceptives, x=\"age_cat\", color=\"Smokes\", barmode=\"group\", facet_col=\"Dx:Cancer\",\n",
    "                   color_discrete_sequence=[\"darkcyan\", \"crimson\"])\n",
    "fig.update_xaxes(title=\"Age Category\")\n",
    "fig.update_yaxes(title=\"Sum of IUD Usage across age category\")\n",
    "fig.update_layout(title=\"Age Ranges of women who use IUD's\")\n",
    "fig.show()"
   ]
  },
  {
   "cell_type": "code",
   "execution_count": null,
   "metadata": {},
   "outputs": [],
   "source": [
    "df_both_contraceptives = risk_factor_df[(risk_factor_df[\"Hormonal Contraceptives\"] == 1) & (risk_factor_df[\"IUD\"] == 1)]\n",
    "df_both_contraceptives = df_both_contraceptives.sort_values(by=\"Smokes\")\n",
    "fig = px.histogram(df_both_contraceptives, x=\"age_cat\", color=\"Smokes\", barmode=\"group\", facet_col=\"Dx:Cancer\",\n",
    "                   color_discrete_sequence=[\"darkcyan\", \"crimson\"])\n",
    "fig.update_xaxes(title=\"Age Category\")\n",
    "fig.update_yaxes(title=\"Count\")\n",
    "fig.update_layout(title=\"Age Ranges of women who use BOTH Hormonal Contracepties and IUD's\")\n",
    "fig.show()"
   ]
  },
  {
   "cell_type": "code",
   "execution_count": null,
   "metadata": {},
   "outputs": [],
   "source": [
    "dx_cancer = px.histogram(risk_factor_df, y=\"Dx:Cancer\")\n",
    "dx_cancer.update_layout(bargap=0.2)\n",
    "dx_cancer.update_layout(title = \"Imbalanced Classes\")\n",
    "dx_cancer.show()"
   ]
  },
  {
   "cell_type": "code",
   "execution_count": null,
   "metadata": {},
   "outputs": [],
   "source": [
    "X = risk_factor_df.drop([\"Dx:Cancer\", \"age_cat\"], axis=1)\n",
    "y = risk_factor_df[\"Dx:Cancer\"].copy()"
   ]
  },
  {
   "cell_type": "code",
   "execution_count": null,
   "metadata": {},
   "outputs": [],
   "source": [
    "# smote = SMOTE(random_state=42)\n",
    "# x_smote, y_smote = smote.fit_resample(X, y)\n",
    "# risk_factor_df = x_smote.join(y_smote)\n",
    "# risk_factor_df[\"age_cat\"] = risk_factor_df[\"Age\"].apply(age_cat)"
   ]
  },
  {
   "cell_type": "code",
   "execution_count": null,
   "metadata": {},
   "outputs": [],
   "source": [
    "adasyn = ADASYN(random_state=42)\n",
    "x_adasyn,y_adasyn = adasyn.fit_resample(X,y)\n",
    "risk_factor_df = x_adasyn.join(y_adasyn)"
   ]
  },
  {
   "cell_type": "code",
   "execution_count": null,
   "metadata": {},
   "outputs": [],
   "source": [
    "# ros = RandomOverSampler(random_state=42)\n",
    "# x_ros, y_ros = ros.fit_resample(X, y)\n",
    "# risk_factor_df = x_ros.join(y_ros)"
   ]
  },
  {
   "cell_type": "code",
   "execution_count": null,
   "metadata": {},
   "outputs": [],
   "source": [
    "risk_factor_df[\"age_cat\"] = risk_factor_df[\"Age\"].apply(age_cat)"
   ]
  },
  {
   "cell_type": "code",
   "execution_count": null,
   "metadata": {},
   "outputs": [],
   "source": [
    "dx_cancer = px.histogram(risk_factor_df, y=\"Dx:Cancer\")\n",
    "dx_cancer.update_layout(bargap=0.2)\n",
    "dx_cancer.update_layout(title = \"Balanced Classes\")\n",
    "dx_cancer.show()"
   ]
  },
  {
   "cell_type": "code",
   "execution_count": null,
   "metadata": {},
   "outputs": [],
   "source": [
    "train_set = None\n",
    "test_set = None \n",
    "split = StratifiedShuffleSplit(n_splits=1, test_size=0.2, random_state=42)\n",
    "for train_idx, test_idx in split.split(risk_factor_df, risk_factor_df[\"age_cat\"]):\n",
    "    train_set = risk_factor_df.loc[train_idx]\n",
    "    test_set = risk_factor_df.loc[test_idx]\n",
    "cols_to_drop = [\"age_cat\",\"total_std\",\"total_tests\"]\n",
    "for set_ in (train_set, test_set):\n",
    "    for col in cols_to_drop:\n",
    "        set_.drop(col, axis=1, inplace=True)"
   ]
  },
  {
   "cell_type": "code",
   "execution_count": null,
   "metadata": {},
   "outputs": [],
   "source": [
    "X_train = train_set.drop(\"Dx:Cancer\", axis=1)\n",
    "y_train = train_set[\"Dx:Cancer\"].copy()\n",
    "\n",
    "X_test = test_set.drop(\"Dx:Cancer\", axis=1)\n",
    "y_test = test_set[\"Dx:Cancer\"].copy()"
   ]
  },
  {
   "cell_type": "code",
   "execution_count": null,
   "metadata": {},
   "outputs": [],
   "source": [
    "XT = RobustScaler().fit_transform(X_train)\n",
    "pca = PCA(n_components=0.99)\n",
    "XT = pca.fit_transform(XT)\n",
    "\n",
    "dimensions = px.bar(x=range(pca.n_components_), y=pca.explained_variance_ratio_,\n",
    "                    color_discrete_sequence=[\"darkslateblue\"],\n",
    "                    labels={\"x\":\"PCA Feature\",\"y\":\"Explained Variance\"})\n",
    "dimensions.show()\n",
    "exp_var_cumul = np.cumsum(pca.explained_variance_ratio_)\n",
    "\n",
    "explained_variance = px.area(\n",
    "    x=range(1, exp_var_cumul.shape[0] + 1),\n",
    "    y=exp_var_cumul,\n",
    "    labels={\"x\": \"# Components\", \"y\": \"Explained Variance\"},\n",
    "    color_discrete_sequence=[\"dodgerblue\"]\n",
    ")\n",
    "explained_variance.show()"
   ]
  },
  {
   "cell_type": "code",
   "execution_count": null,
   "metadata": {},
   "outputs": [],
   "source": [
    "pipeline = Pipeline([\n",
    "    (\"scaler\", RobustScaler()),\n",
    "    (\"pca\", PCA(n_components=13))\n",
    "])\n",
    "X_train = pipeline.fit_transform(X_train)\n",
    "X_test = pipeline.transform(X_test)"
   ]
  },
  {
   "cell_type": "code",
   "execution_count": null,
   "metadata": {},
   "outputs": [],
   "source": [
    "param_grid = {'C': np.logspace(-5, 8, 15)}\n",
    "logreg = LogisticRegression()\n",
    "logreg_cv = GridSearchCV(logreg, param_grid, cv=10,refit=True).fit(X_train,y_train)\n",
    "logreg_cv = LogisticRegression(**logreg_cv.best_params_)"
   ]
  },
  {
   "cell_type": "code",
   "execution_count": null,
   "metadata": {},
   "outputs": [],
   "source": [
    "rnd_clf = RandomForestClassifier(n_estimators=2500, max_leaf_nodes=2, n_jobs=-1,\n",
    "                                 max_features=\"sqrt\")"
   ]
  },
  {
   "cell_type": "code",
   "execution_count": null,
   "metadata": {},
   "outputs": [],
   "source": [
    "knn_clf = KNeighborsClassifier()\n",
    "knn_param_grid = {\"n_neighbors\": list(np.arange(1, 100, 2))}\n",
    "knn_clf_cv = GridSearchCV(knn_clf, knn_param_grid, cv=10,refit=True).fit(X_train,y_train)\n",
    "knn_clf_cv = KNeighborsClassifier(**knn_clf_cv.best_params_)"
   ]
  },
  {
   "cell_type": "code",
   "execution_count": null,
   "metadata": {},
   "outputs": [],
   "source": [
    "svm_clf = SVC()\n",
    "svc_param_grid = {'C': np.logspace(-3, 2, 6), 'gamma': np.logspace(-3, 2, 6), }\n",
    "svm_clf_cv = GridSearchCV(svm_clf, svc_param_grid, cv=5)"
   ]
  },
  {
   "cell_type": "code",
   "execution_count": null,
   "metadata": {},
   "outputs": [],
   "source": [
    "col_names = [\"Classifier Name\", \"Accuracy Score\", \"Precision Score\",\n",
    "             \"Recall Score\", \"F1 Score\"]\n",
    "summary_df = pd.DataFrame(columns=col_names)\n",
    "\n",
    "est_name = []\n",
    "est_acc = []\n",
    "precision_score = []\n",
    "recall_score = []\n",
    "f1score = []\n",
    "est_conf_matrix = []\n",
    "\n",
    "estimators = [\n",
    "    (\"LogisticRegression\", logreg_cv),\n",
    "    (\"RandomForestClassifier \", rnd_clf),\n",
    "    (\"KNeighborsClassifier\", knn_clf_cv),\n",
    "    (\"SupportVectorClassifier\", svm_clf_cv)]\n",
    "\n",
    "for i in range(0, len(estimators)):\n",
    "    clf_name = estimators[i][0]\n",
    "    clf = estimators[i][1]\n",
    "    clf.fit(X_train, y_train)\n",
    "    y_pred = clf.predict(X_test)\n",
    "    # print(pd.crosstab(y_test,y_pred,rownames=[\"Actual\"],colnames=[\"predicted\"],margins=True))\n",
    "    est_name.append(estimators[i][0])\n",
    "    est_acc.append(accuracy_score(y_test, y_pred))\n",
    "    scores = precision_recall_fscore_support(y_test, y_pred, average=\"weighted\")\n",
    "    precision_score.append(scores[0])\n",
    "    recall_score.append(scores[1])\n",
    "    f1score.append(scores[2])\n",
    "    est_conf_matrix.append(confusion_matrix(y_test,y_pred))\n",
    "\n",
    "\n",
    "summary_df[col_names[0]] = est_name\n",
    "summary_df[col_names[1]] = est_acc\n",
    "summary_df[col_names[2]] = precision_score\n",
    "summary_df[col_names[3]] = recall_score\n",
    "summary_df[col_names[4]] = f1score"
   ]
  },
  {
   "cell_type": "code",
   "execution_count": null,
   "metadata": {},
   "outputs": [],
   "source": [
    "color_scales = [\"agsunset\",\"teal\",\"purp\",\"viridis\"]\n",
    "for i in range(0,len(est_conf_matrix)):\n",
    "    heatmap = px.imshow(est_conf_matrix[i],aspect=\"auto\",\n",
    "                        text_auto=True,\n",
    "                        color_continuous_scale=color_scales[i])\n",
    "    heatmap.update_layout(title = est_name[i])\n",
    "    heatmap.update_xaxes(title=\"Predicted\")\n",
    "    heatmap.update_yaxes(title=\"Actual\")\n",
    "    heatmap.show()"
   ]
  },
  {
   "cell_type": "code",
   "execution_count": null,
   "metadata": {},
   "outputs": [],
   "source": [
    "acc_comparison = px.bar(summary_df, x=\"Classifier Name\",\n",
    "                        y=col_names[1:len(col_names)],\n",
    "                        color_discrete_sequence=[\"deeppink\",\n",
    "                                                 \"deepskyblue\",\n",
    "                                                 \"darkviolet\",\n",
    "                                                 \"darkorange\"],\n",
    "                        barmode=\"group\")\n",
    "acc_comparison.show()"
   ]
  }
 ],
 "metadata": {
  "kernelspec": {
   "display_name": "Python 3.10.0 64-bit",
   "language": "python",
   "name": "python3"
  },
  "language_info": {
   "codemirror_mode": {
    "name": "ipython",
    "version": 3
   },
   "file_extension": ".py",
   "mimetype": "text/x-python",
   "name": "python",
   "nbconvert_exporter": "python",
   "pygments_lexer": "ipython3",
   "version": "3.10.0"
  },
  "orig_nbformat": 4,
  "vscode": {
   "interpreter": {
    "hash": "f97e529747ebd75ab7a7eec8530cad2ed8018c456aefe1ed5a69bb21bdfd2052"
   }
  }
 },
 "nbformat": 4,
 "nbformat_minor": 2
}
